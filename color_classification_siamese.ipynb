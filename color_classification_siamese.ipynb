{
 "cells": [
  {
   "cell_type": "code",
   "execution_count": 2,
   "metadata": {},
   "outputs": [],
   "source": [
    "import os\n",
    "import cv2\n",
    "import random\n",
    "import itertools\n",
    "import numpy as np\n",
    "import pandas as pd\n",
    "from tensorflow.keras.models import Model\n",
    "from tensorflow.keras.utils import plot_model\n",
    "from tensorflow.keras.optimizers import Adam\n",
    "from tensorflow.keras.losses import BinaryCrossentropy\n",
    "from tensorflow.keras.metrics import BinaryAccuracy\n",
    "from tensorflow.keras.applications.vgg19 import VGG19\n",
    "from tensorflow.keras.layers import Conv2D, Dense, Dropout, Input, concatenate, Flatten, MaxPooling2D"
   ]
  },
  {
   "cell_type": "code",
   "execution_count": 25,
   "metadata": {},
   "outputs": [],
   "source": [
    "root = \"color_classification_dataset\"\n",
    "resolution = (224, 224)\n",
    "\n",
    "def create_lookup():\n",
    "    look = os.path.join(root, \"train_data\")\n",
    "    lookup = dict()\n",
    "    colors = set()\n",
    "    for dire in os.listdir(look):\n",
    "        color = dire.split(\".\")[0].split(\"_\")[1]\n",
    "        colors.add(color)\n",
    "        lookup[dire] = color\n",
    "    return lookup, colors\n",
    "lookup, colors = create_lookup()"
   ]
  },
  {
   "cell_type": "code",
   "execution_count": 51,
   "metadata": {},
   "outputs": [
    {
     "name": "stdout",
     "output_type": "stream",
     "text": [
      "3637\n"
     ]
    }
   ],
   "source": [
    "pairs = list()\n",
    "def push_to_df(pivot, cmp):\n",
    "    label = 0\n",
    "    if lookup[pivot] == lookup[cmp]:\n",
    "        label = 1\n",
    "    pairs.append([pivot, cmp, label])\n",
    "    \n",
    "def create_training_data():\n",
    "    files = list(lookup.keys())\n",
    "    random.shuffle(files)\n",
    "    img_count = 0\n",
    "    window = 20\n",
    "    for index in range(len(files)):        \n",
    "        pivot = files[index]\n",
    "        if index == 0:\n",
    "            look = window\n",
    "            for wind_i in range(1, look):\n",
    "                cmp_file = files[index + wind_i]\n",
    "                push_to_df(pivot, cmp_file)\n",
    "        if index > 0:\n",
    "            look_ahead_floor = index + 1\n",
    "            look_ahead_ceil = look_ahead_floor + window\n",
    "            look_back_ceil = index - 1\n",
    "            look_back_floor = look_back_ceil - window\n",
    "            pivot = files[index]\n",
    "            if index >= window and index < len(files) - window:\n",
    "                for i in range(look_back_ceil, look_back_floor,  -1):\n",
    "                    cmp_file = files[i]\n",
    "                    push_to_df(pivot, cmp_file)\n",
    "                for i in range(look_ahead_floor, look_ahead_ceil):\n",
    "                    cmp_file = files[i]\n",
    "                    push_to_df(pivot, cmp_file)\n",
    "\n",
    "            elif index < len(files) - window:\n",
    "                for i in range(index - 1, -1, -1):\n",
    "                    cmp_file = files[i]\n",
    "                    push_to_df(pivot, cmp_file)\n",
    "            else:\n",
    "                for i in range(index+1, len(files)):\n",
    "                    cmp_file = files[i]\n",
    "                    push_to_df(pivot, cmp_file)\n",
    "        push_to_df(files[index], files[index])\n",
    "create_training_data()\n",
    "df = pd.DataFrame(pairs)\n",
    "df.columns = [\"file1\", \"file2\", \"label\"]"
   ]
  },
  {
   "cell_type": "code",
   "execution_count": 56,
   "metadata": {},
   "outputs": [
    {
     "name": "stdout",
     "output_type": "stream",
     "text": [
      "2909\n",
      "545\n"
     ]
    }
   ],
   "source": [
    "def load_file_data(file):\n",
    "    file_path = os.path.join(root, \"train_data\", file)\n",
    "    if not os.path.exists(file_path):\n",
    "        sub_dir = lookup[file]\n",
    "        file_path = os.path.join(parents[1], sub_dir, file)\n",
    "    file = cv2.imread(file_path)\n",
    "    file = cv2.resize(file, resolution, interpolation=cv2.INTER_CUBIC)/255\n",
    "    # hist = cv2.calcHist([file], [0, 1, 2], None, [256, 256, 256], [0, 300, 0, 300, 0, 300])\n",
    "    return file\n",
    "\n",
    "def preprocess_data():\n",
    "    # df = pd.read_csv(\"flower_data.csv\", index_col=False)\n",
    "    train = int(len(df.index) * 0.8)\n",
    "    test = int(len(df.index) * .15)\n",
    "    validate = int(len(df.index) * .05)\n",
    "    train_data = df[:train]\n",
    "    test_data = df[train:train+test]\n",
    "    validate_data = df[train+test: train+test+validate]\n",
    "    return train_data, test_data, validate_data\n",
    "\n",
    "train_data, test_data, validation_data = preprocess_data()\n",
    "print(len(train_data.index))\n",
    "print(len(test_data.index))\n",
    "def generate_input_data(src_data):\n",
    "    for index, data in src_data.iterrows():\n",
    "        file_1 = load_file_data(data[\"file1\"])\n",
    "        file_2 = load_file_data(data[\"file2\"])\n",
    "        yield (np.array([file_1]), np.array([file_2])), np.array([float(data[\"label\"])])"
   ]
  },
  {
   "cell_type": "code",
   "execution_count": 62,
   "metadata": {},
   "outputs": [
    {
     "name": "stdout",
     "output_type": "stream",
     "text": [
      "Model: \"functional_5\"\n",
      "__________________________________________________________________________________________________\n",
      "Layer (type)                    Output Shape         Param #     Connected to                     \n",
      "==================================================================================================\n",
      "input_7 (InputLayer)            [(None, 100, 100, 3) 0                                            \n",
      "__________________________________________________________________________________________________\n",
      "input_8 (InputLayer)            [(None, 100, 100, 3) 0                                            \n",
      "__________________________________________________________________________________________________\n",
      "conv2d_16 (Conv2D)              (None, 98, 98, 15)   420         input_7[0][0]                    \n",
      "__________________________________________________________________________________________________\n",
      "conv2d_19 (Conv2D)              (None, 98, 98, 15)   420         input_8[0][0]                    \n",
      "__________________________________________________________________________________________________\n",
      "conv2d_17 (Conv2D)              (None, 96, 96, 31)   4216        conv2d_16[0][0]                  \n",
      "__________________________________________________________________________________________________\n",
      "conv2d_20 (Conv2D)              (None, 96, 96, 31)   4216        conv2d_19[0][0]                  \n",
      "__________________________________________________________________________________________________\n",
      "conv2d_18 (Conv2D)              (None, 94, 94, 22)   6160        conv2d_17[0][0]                  \n",
      "__________________________________________________________________________________________________\n",
      "conv2d_21 (Conv2D)              (None, 94, 94, 22)   6160        conv2d_20[0][0]                  \n",
      "__________________________________________________________________________________________________\n",
      "max_pooling2d_5 (MaxPooling2D)  (None, 31, 31, 22)   0           conv2d_18[0][0]                  \n",
      "__________________________________________________________________________________________________\n",
      "max_pooling2d_6 (MaxPooling2D)  (None, 31, 31, 22)   0           conv2d_21[0][0]                  \n",
      "__________________________________________________________________________________________________\n",
      "flatten_5 (Flatten)             (None, 21142)        0           max_pooling2d_5[0][0]            \n",
      "__________________________________________________________________________________________________\n",
      "flatten_6 (Flatten)             (None, 21142)        0           max_pooling2d_6[0][0]            \n",
      "__________________________________________________________________________________________________\n",
      "dropout_7 (Dropout)             (None, 21142)        0           flatten_5[0][0]                  \n",
      "__________________________________________________________________________________________________\n",
      "dropout_8 (Dropout)             (None, 21142)        0           flatten_6[0][0]                  \n",
      "__________________________________________________________________________________________________\n",
      "dense_9 (Dense)                 (None, 200)          4228600     dropout_7[0][0]                  \n",
      "__________________________________________________________________________________________________\n",
      "dense_10 (Dense)                (None, 200)          4228600     dropout_8[0][0]                  \n",
      "__________________________________________________________________________________________________\n",
      "concatenate_2 (Concatenate)     (None, 400)          0           dense_9[0][0]                    \n",
      "                                                                 dense_10[0][0]                   \n",
      "__________________________________________________________________________________________________\n",
      "dense_11 (Dense)                (None, 13)           5213        concatenate_2[0][0]              \n",
      "__________________________________________________________________________________________________\n",
      "dense_12 (Dense)                (None, 1)            14          dense_11[0][0]                   \n",
      "==================================================================================================\n",
      "Total params: 8,484,019\n",
      "Trainable params: 8,484,019\n",
      "Non-trainable params: 0\n",
      "__________________________________________________________________________________________________\n"
     ]
    }
   ],
   "source": [
    "resolution_model = resolution + (3,)\n",
    "def build_model():\n",
    "    input_1 = Input(shape=resolution_model)\n",
    "    model1 = Conv2D(15, 3, activation='linear')(input_1)\n",
    "    model1 = Conv2D(31, 3, activation='relu')(model1)\n",
    "    model1 = Conv2D(22, 3, activation='relu')(model1)\n",
    "    model1 = MaxPooling2D((3,3))(model1)\n",
    "    model1 = Flatten()(model1)\n",
    "    model1 = Dropout(0.25)(model1)\n",
    "    model1 = Dense(200, activation=\"relu\")(model1)\n",
    "    \n",
    "    input_2 = Input(shape=resolution_model)\n",
    "    model2 = Conv2D(15, 3, activation='linear')(input_2)\n",
    "    model2 = Conv2D(31, 3, activation='relu')(model2)\n",
    "    model2 = Conv2D(22, 3, activation='relu')(model2)\n",
    "    model2 = MaxPooling2D((3,3))(model2)\n",
    "    model2 = Flatten()(model2)\n",
    "    model2 = Dropout(0.25)(model2)\n",
    "    model2 = Dense(200, activation=\"relu\")(model2)\n",
    "\n",
    "    concat = concatenate([model1, model2])\n",
    "    model2 = Dropout(0.25)(concat)\n",
    "    concat = Dense(13, activation=\"softmax\")(concat)\n",
    "    output = Dense(1, activation=\"sigmoid\")(concat)\n",
    "    model = Model(inputs=[input_1, input_2], outputs=output)\n",
    "    return model\n",
    "model = build_model()\n",
    "model.summary()"
   ]
  },
  {
   "cell_type": "code",
   "execution_count": 57,
   "metadata": {},
   "outputs": [
    {
     "name": "stdout",
     "output_type": "stream",
     "text": [
      "Epoch 1/3\n",
      "969/969 [==============================] - 91s 94ms/step - loss: 0.4446 - binary_accuracy: 0.8576 - val_loss: 0.4401 - val_binary_accuracy: 0.8440\n",
      "Epoch 2/3\n",
      "969/969 [==============================] - 98s 101ms/step - loss: 0.4144 - binary_accuracy: 0.8586 - val_loss: 0.3604 - val_binary_accuracy: 0.8899\n",
      "Epoch 3/3\n",
      "969/969 [==============================] - 90s 93ms/step - loss: 0.3881 - binary_accuracy: 0.8710 - val_loss: 0.4332 - val_binary_accuracy: 0.8440\n",
      "181/181 [==============================] - 4s 20ms/step - loss: 0.4503 - binary_accuracy: 0.8343\n"
     ]
    },
    {
     "data": {
      "text/plain": [
       "[0.45026469230651855, 0.8342541456222534]"
      ]
     },
     "execution_count": 57,
     "metadata": {},
     "output_type": "execute_result"
    }
   ],
   "source": [
    "model.compile(optimizer=\"adam\", loss=BinaryCrossentropy(), metrics=[BinaryAccuracy()])\n",
    "model.fit(generate_input_data(train_data), epochs=3, steps_per_epoch=969, validation_data=generate_input_data(test_data), validation_steps=109)\n",
    "model.evaluate(generate_input_data(validation_data))"
   ]
  },
  {
   "cell_type": "code",
   "execution_count": 59,
   "metadata": {},
   "outputs": [
    {
     "name": "stdout",
     "output_type": "stream",
     "text": [
      "[[0.14814684]]\n"
     ]
    }
   ],
   "source": [
    "def predict(img1, img2):\n",
    "    img1 = cv2.imread(img1)\n",
    "    print(resolution)\n",
    "    img1 = cv2.resize(img1, (100, 100), interpolation=cv2.INTER_CUBIC)/255\n",
    "    # img1 = cv2.calcHist([img1], [0, 1, 2], None, [256, 256, 256], [0, 800, 0, 800, 0, 800])\n",
    "    img2 = cv2.imread(img2)\n",
    "    img2 = cv2.resize(img2, (100, 100), interpolation=cv2.INTER_CUBIC)/255\n",
    "    # img2 = cv2.calcHist([img2], [0, 1, 2], None, [256, 256, 256], [0, 800, 0, 800, 0, 800])\n",
    "    return model.predict([np.array([img1]), np.array([img2])])\n",
    "    \n",
    "print(predict('test_images/test_blue.png', 'test_images/test_green.png'))"
   ]
  },
  {
   "cell_type": "code",
   "execution_count": null,
   "metadata": {},
   "outputs": [],
   "source": []
  }
 ],
 "metadata": {
  "kernelspec": {
   "display_name": "Python 3",
   "language": "python",
   "name": "python3"
  },
  "language_info": {
   "codemirror_mode": {
    "name": "ipython",
    "version": 3
   },
   "file_extension": ".py",
   "mimetype": "text/x-python",
   "name": "python",
   "nbconvert_exporter": "python",
   "pygments_lexer": "ipython3",
   "version": "3.8.5"
  }
 },
 "nbformat": 4,
 "nbformat_minor": 2
}
